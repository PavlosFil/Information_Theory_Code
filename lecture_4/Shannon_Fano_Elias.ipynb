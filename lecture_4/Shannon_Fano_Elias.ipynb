{
 "cells": [
  {
   "cell_type": "code",
   "execution_count": null,
   "metadata": {},
   "outputs": [],
   "source": [
    "#Code Shannon-Fano-Elias\n",
    "import math"
   ]
  },
  {
   "cell_type": "code",
   "execution_count": null,
   "metadata": {},
   "outputs": [],
   "source": [
    "def code_words(a):\n",
    "    a = a - int(a)\n",
    "    r = -1\n",
    "    b = []\n",
    "    while a > 10**(-5):\n",
    "        if a >= 2**r:\n",
    "            b.append('1')\n",
    "            a = a - 2**r\n",
    "        else:\n",
    "            b.append('0')\n",
    "        r -= 1\n",
    "    return ''.join(b)"
   ]
  },
  {
   "cell_type": "code",
   "execution_count": null,
   "metadata": {},
   "outputs": [],
   "source": [
    "def length_words(p):\n",
    "    lp = []\n",
    "    for i in p:\n",
    "        m_l = math.log(1/i,2)\n",
    "        if m_l == int(m_l):\n",
    "            lp.append(int(m_l)+1)\n",
    "        else:\n",
    "            lp.append(int(m_l)+2)\n",
    "    return lp"
   ]
  },
  {
   "cell_type": "code",
   "execution_count": null,
   "metadata": {},
   "outputs": [],
   "source": [
    "p = [1/3,1/4,1/6,1/4]\n",
    "f = []\n",
    "fi = []\n",
    "s = 0\n",
    "for i in range(len(p)):\n",
    "    s += p[i]\n",
    "    f.append(s)\n",
    "    if i == 0:\n",
    "        fi.append(p[i]/2)\n",
    "    else:\n",
    "        fi.append(f[i-1] + p[i]/2)\n",
    "l = []\n",
    "for i in fi:\n",
    "    l.append(code_words(i))\n",
    "\n",
    "l_w = length_words(p)\n",
    "c = []\n",
    "for i in range(len(p)):\n",
    "    c.append(l[i][:l_w[i]])\n",
    "    \n",
    "print('F = ',f,'\\nFI = ',fi,'\\nL = ',l,'\\nLP = ',l_w,'\\nCode = ',c)\n",
    "print(''.join(c[3]))"
   ]
  },
  {
   "cell_type": "code",
   "execution_count": null,
   "metadata": {},
   "outputs": [],
   "source": [
    "h = 0\n",
    "l_sfe = 0\n",
    "for i in range(len(p)):\n",
    "    h -= p[i] * math.log(p[i],2)\n",
    "    l_sfe += p[i] * len(c[i]) \n",
    "print('H(X) = ',h,'L(X) = ',l_sfe,'Eff =',h/l_sfe)"
   ]
  }
 ],
 "metadata": {
  "kernelspec": {
   "display_name": "Python 3",
   "language": "python",
   "name": "python3"
  },
  "language_info": {
   "codemirror_mode": {
    "name": "ipython",
    "version": 3
   },
   "file_extension": ".py",
   "mimetype": "text/x-python",
   "name": "python",
   "nbconvert_exporter": "python",
   "pygments_lexer": "ipython3",
   "version": "3.7.4"
  }
 },
 "nbformat": 4,
 "nbformat_minor": 2
}
