{
 "cells": [
  {
   "cell_type": "code",
   "execution_count": null,
   "metadata": {},
   "outputs": [],
   "source": [
    "# From  github mreid/huffman.py \n",
    "#       https://gist.github.com/mreid/fdf6353ec39d050e972b\n",
    "# Example Huffman coding implementation\n",
    "# Distributions are represented as dictionaries of { 'symbol': probability }\n",
    "# Codes are dictionaries too: { 'symbol': 'codeword' }\n",
    "\n",
    "def huffman(p):\n",
    "    '''Return a Huffman code for an ensemble with distribution p.'''\n",
    " #   print('in total = ',sum(p.values()))\n",
    " #   assert(sum(p.values()) == 1.0) # Ensure probabilities sum to 1\n",
    "\n",
    "    # Base case of only two symbols, assign 0 or 1 arbitrarily\n",
    "    if(len(p) == 2):\n",
    "        return dict(zip(p.keys(), ['0', '1']))\n",
    "\n",
    "    # Create a new distribution by merging lowest prob. pair\n",
    "    p_prime = p.copy()\n",
    "    a1, a2 = lowest_prob_pair(p)\n",
    "    p1, p2 = p_prime.pop(a1), p_prime.pop(a2)\n",
    "    p_prime[a1 + a2] = p1 + p2\n",
    "\n",
    "    # Recurse and construct code on new distribution\n",
    "    c = huffman(p_prime)\n",
    "    ca1a2 = c.pop(a1 + a2)\n",
    "    c[a1], c[a2] = ca1a2 + '0', ca1a2 + '1'\n",
    "\n",
    "    return c"
   ]
  },
  {
   "cell_type": "code",
   "execution_count": null,
   "metadata": {},
   "outputs": [],
   "source": [
    "def lowest_prob_pair(p):\n",
    "    '''Return pair of symbols from distribution p with lowest probabilities.'''\n",
    "    assert(len(p) >= 2) # Ensure there are at least 2 symbols in the dist.\n",
    "\n",
    "    sorted_p = sorted(p.items(), key=lambda x: x[1])      #for python3\n",
    "    return sorted_p[0][0], sorted_p[1][0]\n"
   ]
  },
  {
   "cell_type": "code",
   "execution_count": null,
   "metadata": {},
   "outputs": [],
   "source": [
    "ex1 = { 'a': 0.5, 'b': 0.25, 'c': 0.25 }\n",
    "print(huffman(ex1))"
   ]
  },
  {
   "cell_type": "code",
   "execution_count": null,
   "metadata": {},
   "outputs": [],
   "source": [
    "ex2 = { 'a': 0.25, 'b': 0.25, 'c': 0.2, 'd': 0.15, 'e': 0.15 }\n",
    "print(huffman(ex2))"
   ]
  },
  {
   "cell_type": "code",
   "execution_count": null,
   "metadata": {},
   "outputs": [],
   "source": []
  }
 ],
 "metadata": {
  "kernelspec": {
   "display_name": "Python 3",
   "language": "python",
   "name": "python3"
  },
  "language_info": {
   "codemirror_mode": {
    "name": "ipython",
    "version": 3
   },
   "file_extension": ".py",
   "mimetype": "text/x-python",
   "name": "python",
   "nbconvert_exporter": "python",
   "pygments_lexer": "ipython3",
   "version": "3.7.4"
  }
 },
 "nbformat": 4,
 "nbformat_minor": 2
}
